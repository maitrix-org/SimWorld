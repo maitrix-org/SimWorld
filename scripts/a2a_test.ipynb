{
 "cells": [
  {
   "cell_type": "code",
   "execution_count": null,
   "id": "8f61e730",
   "metadata": {},
   "outputs": [],
   "source": [
    "import sys\n",
    "from pathlib import Path\n",
    "sys.path.append(str(Path().resolve().parent))\n",
    "from scripts.user_manager import UserManager\n",
    "from simworld.config import Config"
   ]
  },
  {
   "cell_type": "code",
   "execution_count": 2,
   "id": "106614d2",
   "metadata": {},
   "outputs": [],
   "source": [
    "import os\n",
    "os.environ['OPENROUTER_API_KEY'] = '<your key here>'\n",
    "os.environ['OPENAI_API_KEY'] = '<your key here>'"
   ]
  },
  {
   "cell_type": "code",
   "execution_count": null,
   "id": "12a3c058",
   "metadata": {},
   "outputs": [],
   "source": [
    "config = Config()\n",
    "user_manager = UserManager(1, config)"
   ]
  },
  {
   "cell_type": "code",
   "execution_count": 4,
   "id": "2c985b3d",
   "metadata": {},
   "outputs": [],
   "source": [
    "user_manager.spawn_agent()\n",
    "user_manager.spawn_manager()"
   ]
  },
  {
   "cell_type": "code",
   "execution_count": null,
   "id": "75dfc21e",
   "metadata": {},
   "outputs": [],
   "source": [
    "user_manager.run()"
   ]
  }
 ],
 "metadata": {
  "kernelspec": {
   "display_name": "unreal",
   "language": "python",
   "name": "python3"
  },
  "language_info": {
   "codemirror_mode": {
    "name": "ipython",
    "version": 3
   },
   "file_extension": ".py",
   "mimetype": "text/x-python",
   "name": "python",
   "nbconvert_exporter": "python",
   "pygments_lexer": "ipython3",
   "version": "3.10.16"
  }
 },
 "nbformat": 4,
 "nbformat_minor": 5
}
